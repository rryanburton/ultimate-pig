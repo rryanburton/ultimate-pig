{
 "cells": [
  {
   "cell_type": "code",
   "execution_count": 115,
   "metadata": {
    "collapsed": true
   },
   "outputs": [],
   "source": [
    "import statistics as st\n",
    "import matplotlib.pyplot as plt\n",
    "import random\n",
    "import math"
   ]
  },
  {
   "cell_type": "code",
   "execution_count": 116,
   "metadata": {
    "collapsed": true
   },
   "outputs": [],
   "source": [
    "%matplotlib inline\n"
   ]
  },
  {
   "cell_type": "code",
   "execution_count": 117,
   "metadata": {
    "collapsed": true
   },
   "outputs": [],
   "source": [
    "def roll_die():\n",
    "        return random.randint(1,6)"
   ]
  },
  {
   "cell_type": "code",
   "execution_count": 118,
   "metadata": {
    "collapsed": false
   },
   "outputs": [],
   "source": [
    "class Player:\n",
    "    \"\"\"\n",
    "    Responsibilities:\n",
    "    Keep track of score and number of rolls\n",
    "    Determine if player should roll again based on current state\n",
    "    Run through a complete turn\n",
    "    \n",
    "    stock player. rolls once and holds that score\n",
    "    \"\"\"\n",
    "    \n",
    "    def __init__(self):\n",
    "        self.points = 0\n",
    "        self.reset()\n",
    "    \n",
    "    def reset(self):\n",
    "        self.points = 0\n",
    "        self.rolls = 0\n",
    "    \n",
    "    \n",
    "\n",
    "    #     def should_roll_again(self):\n",
    "#         \"\"\"\n",
    "#         Returns True if the Player should roll again, False otherwise\n",
    "#         This method should probably be overridden with subclasses to do more complex stuff!\n",
    "#         \"\"\"\n",
    "#         return False\n",
    "    \n",
    "    def play_turn(self):\n",
    "        self.reset()\n",
    "        \n",
    "        while True:\n",
    "            roll = roll_die()\n",
    "            self.rolls += 1\n",
    "            if roll == 1:\n",
    "                return 0\n",
    "                #break\n",
    "            else:\n",
    "                self.points += roll\n",
    "            \n",
    "                break\n",
    "\n",
    "        return self.points"
   ]
  },
  {
   "cell_type": "code",
   "execution_count": 119,
   "metadata": {
    "collapsed": true
   },
   "outputs": [],
   "source": [
    "class PigSolitaireGame:\n",
    "    \"\"\"\n",
    "    Responsibilities:\n",
    "    Run a game\n",
    "    Keep track of total points over 7 turns\n",
    "    \n",
    "    Collaborators:\n",
    "    Player (or subclass)\n",
    "    \"\"\"\n",
    "    def __init__(self, player):\n",
    "        self.player = player\n",
    "    \n",
    "    def play_game(self):\n",
    "        total_points = 0\n",
    "        for _ in range(7):\n",
    "            total_points += self.player.play_turn()\n",
    "            \n",
    "        return total_points"
   ]
  },
  {
   "cell_type": "code",
   "execution_count": 120,
   "metadata": {
    "collapsed": true
   },
   "outputs": [],
   "source": [
    "# class CautiousPlayer(Player):\n",
    "#     # You only need to override the methods you want to change\n",
    "#     # Including __init__ - if the superclass version is fine, don't override it!\n",
    "#     def should_roll_again(self):\n",
    "#         if self.rolls < 2:\n",
    "#             return True\n",
    "#         else:\n",
    "#             return False"
   ]
  },
  {
   "cell_type": "code",
   "execution_count": 121,
   "metadata": {
    "collapsed": true
   },
   "outputs": [],
   "source": [
    "class OptimalPlayer(Player):\n",
    "    \"\"\"\n",
    "    Responsibilities:\n",
    "    based on Player class\n",
    "    Optimal player per  \"Practical Play of the Dice Game Pig\" The UMAP Journal 31 (1) (2010) 5–19. ⃝c Copyright 2010 by COMAP, Inc.\n",
    "    http://cs.gettysburg.edu/~tneller/papers/umap10.pdf\n",
    "    \n",
    "    rolls until has 25\n",
    "    - \n",
    "    \"\"\"\n",
    "    \n",
    "    def __init__(self):\n",
    "        super().__init__()\n",
    "    \n",
    "    def reset(self):\n",
    "        self.points = 0\n",
    "        self.rolls = 0\n",
    "\n",
    "    \n",
    "    def play_turn(self):\n",
    "        self.reset()\n",
    "        \n",
    "        while True:\n",
    "            roll = roll_die()\n",
    "            self.rolls += 1\n",
    "            if roll == 1:\n",
    "                return 0\n",
    "                #break\n",
    "            else:\n",
    "                self.points += roll\n",
    "                if self.points < 24:\n",
    "                    continue\n",
    "                else:\n",
    "                    break\n",
    "\n",
    "        return self.points"
   ]
  },
  {
   "cell_type": "code",
   "execution_count": 122,
   "metadata": {
    "collapsed": false
   },
   "outputs": [],
   "source": [
    "class ConservativePlayer(Player):\n",
    "    \"\"\"\n",
    "    Responsibilities:\n",
    "    based on Player class\n",
    "    rolls until has 10\n",
    "    - \n",
    "    \"\"\"\n",
    "    \n",
    "    def __init__(self):\n",
    "        super().__init__()\n",
    "    \n",
    "    def reset(self):\n",
    "        self.points = 0\n",
    "        self.rolls = 0\n",
    "\n",
    "    \n",
    "    def play_turn(self):\n",
    "        self.reset()\n",
    "        \n",
    "        while True:\n",
    "            roll = roll_die()\n",
    "            self.rolls += 1\n",
    "            if roll == 1:\n",
    "                return 0\n",
    "                #break\n",
    "            else:\n",
    "                self.points += roll\n",
    "                if self.points < 10:\n",
    "                    continue\n",
    "                else:\n",
    "                    break\n",
    "\n",
    "        return self.points\n",
    "\n"
   ]
  },
  {
   "cell_type": "code",
   "execution_count": 156,
   "metadata": {
    "collapsed": true
   },
   "outputs": [],
   "source": [
    "reg_trials = []\n",
    "conserv_trials = []\n",
    "optimal_trials = []"
   ]
  },
  {
   "cell_type": "code",
   "execution_count": 157,
   "metadata": {
    "collapsed": false
   },
   "outputs": [],
   "source": [
    "def play_scenarios(n):\n",
    "    while n > 0:\n",
    "        \n",
    "        game = PigSolitaireGame(Player())\n",
    "        reg_trials.append(game.play_game()) \n",
    "        #print(game.play_game())\n",
    "\n",
    "        game = PigSolitaireGame(ConservativePlayer())\n",
    "        conserv_trials.append(game.play_game())\n",
    "        #print(game.play_game())\n",
    "\n",
    "        game = PigSolitaireGame(OptimalPlayer())\n",
    "        optimal_trials.append(game.play_game())\n",
    "        #print(game.play_game())\n",
    "\n",
    "        n -= 1\n",
    "    "
   ]
  },
  {
   "cell_type": "code",
   "execution_count": 184,
   "metadata": {
    "collapsed": false
   },
   "outputs": [],
   "source": [
    "play_scenarios(900)"
   ]
  },
  {
   "cell_type": "code",
   "execution_count": 185,
   "metadata": {
    "collapsed": false
   },
   "outputs": [
    {
     "name": "stdout",
     "output_type": "stream",
     "text": [
      "Regular Player: Only Rolls Once\n",
      "Conservative Player: Holds at 10 or more\n",
      "Optimal Player: Holds at 24 or more\n",
      "Trials: 1000000\n",
      "mean of regular: 23.329927\n",
      "mean of conservative: 48.117373\n",
      "mean of optimal: 56.391251\n",
      "min, max of regular:  0, 42\n",
      "min, max of conservative:  0, 98\n",
      "min, max of optimal:  0, 190\n"
     ]
    }
   ],
   "source": [
    "#mean1 = st.mean(optimal_trials)\n",
    "#mean2 = st.mean(conserv_trials)\n",
    "#mean3 = st.mean(reg_trials)\n",
    "print(\"Regular Player: Only Rolls Once\")\n",
    "print(\"Conservative Player: Holds at 10 or more\")\n",
    "print(\"Optimal Player: Holds at 24 or more\")\n",
    "print(\"Trials:\", len(reg_trials))\n",
    "#print(len(conserv_trials))\n",
    "#print(len(optimal_trials))\n",
    "#print(reg_trials)\n",
    "print('mean of regular:', st.mean(reg_trials))\n",
    "print('mean of conservative:',st.mean(conserv_trials))\n",
    "print('mean of optimal:',st.mean(optimal_trials))\n",
    "\n",
    "print('min, max of regular:  {}, {}'.format(min(reg_trials), max(reg_trials)))\n",
    "print('min, max of conservative:  {}, {}'.format(min(conserv_trials), max(conserv_trials)))\n",
    "print('min, max of optimal:  {}, {}'.format(min(optimal_trials), max(optimal_trials)))\n"
   ]
  },
  {
   "cell_type": "code",
   "execution_count": null,
   "metadata": {
    "collapsed": false
   },
   "outputs": [],
   "source": [
    "\n"
   ]
  },
  {
   "cell_type": "code",
   "execution_count": 186,
   "metadata": {
    "collapsed": false
   },
   "outputs": [
    {
     "data": {
      "image/png": "[encoded data removed]",
      "text/plain": [
       "<matplotlib.figure.Figure at 0x109678828>"
      ]
     },
     "metadata": {},
     "output_type": "display_data"
    }
   ],
   "source": [
    "plt.hist(reg_trials)\n",
    "plt.title(\"Reg Player \\n Only Rolls Once\")\n",
    "plt.show()"
   ]
  },
  {
   "cell_type": "code",
   "execution_count": 187,
   "metadata": {
    "collapsed": false
   },
   "outputs": [
    {
     "data": {
      "image/png": "[encoded data removed]",
      "text/plain": [
       "<matplotlib.figure.Figure at 0x108787438>"
      ]
     },
     "metadata": {},
     "output_type": "display_data"
    }
   ],
   "source": [
    "plt.hist(conserv_trials)\n",
    "plt.title(\"Conservative Player \\n Holds at 10 or more\")\n",
    "plt.show()"
   ]
  },
  {
   "cell_type": "code",
   "execution_count": 188,
   "metadata": {
    "collapsed": false
   },
   "outputs": [
    {
     "data": {
      "image/png": "[encoded data removed]",
      "text/plain": [
       "<matplotlib.figure.Figure at 0x1094bfc18>"
      ]
     },
     "metadata": {},
     "output_type": "display_data"
    }
   ],
   "source": [
    "plt.hist(optimal_trials)\n",
    "plt.title(\"Optimal Player \\n Holds at 24 or more\")\n",
    "plt.show()"
   ]
  },
  {
   "cell_type": "code",
   "execution_count": null,
   "metadata": {
    "collapsed": false
   },
   "outputs": [],
   "source": []
  },
  {
   "cell_type": "code",
   "execution_count": null,
   "metadata": {
    "collapsed": true
   },
   "outputs": [],
   "source": []
  },
  {
   "cell_type": "code",
   "execution_count": null,
   "metadata": {
    "collapsed": true
   },
   "outputs": [],
   "source": []
  }
 ],
 "metadata": {
  "kernelspec": {
   "display_name": "Python 3",
   "language": "python",
   "name": "python3"
  },
  "language_info": {
   "codemirror_mode": {
    "name": "ipython",
    "version": 3
   },
   "file_extension": ".py",
   "mimetype": "text/x-python",
   "name": "python",
   "nbconvert_exporter": "python",
   "pygments_lexer": "ipython3",
   "version": "3.4.3"
  }
 },
 "nbformat": 4,
 "nbformat_minor": 0
}
